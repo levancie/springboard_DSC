{
 "cells": [
  {
   "cell_type": "markdown",
   "id": "334d8504",
   "metadata": {},
   "source": [
    "_Project instructions:_\n",
    "# Data Analysis Interview Challenge\n",
    "This is your chance to wow us with creative and rigorous solutions! Please include your code at the end of your submission, or in a separate file. We also accept incomplete solutions.\n",
    "## Part 3 ‐ Predictive modeling\n",
    "Ultimate is interested in predicting rider retention. To help explore this question, we have provided a sample dataset of a cohort of users who signed up for an Ultimate account in January 2014. The data was pulled several months later; we consider a user retained if they were “active” (i.e. took a trip) in the preceding 30 days.\n",
    "\n",
    "We would like you to use this data set to help understand what factors are the best predictors for retention, and offer suggestions to operationalize those insights to help Ultimate.\n",
    "\n",
    "The data is in the attached file ultimate_data_challenge.json. See below for a detailed description of the dataset. Please include any code you wrote for the analysis and delete the dataset when you have finished with the challenge.\n",
    "1. Perform any cleaning, exploratory analysis, and/or visualizations to use the provided data for this analysis (a few sentences/plots describing your approach will suffice). What fraction of the observed users were retained?\n",
    "2. Build a predictive model to help Ultimate determine whether or not a user will be active in their 6th month on the system. Discuss why you chose your approach, what alternatives you considered, and any concerns you have. How valid is your model? Include any key indicators of model performance.\n",
    "3. Briefly discuss how Ultimate might leverage the insights gained from the model to improve its long term rider retention (again, a few sentences will suffice).\n",
    "\n",
    "Data description:\n",
    "- city: city this user signed up in\n",
    "- phone: primary device for this user\n",
    "- signup_date: date of account registration; in the form ‘YYYYMMDD’\n",
    "- last_trip_date: the last time this user completed a trip; in the form ‘YYYYMMDD’\n",
    "- avg_dist: the average distance in miles per trip taken in the first 30 days after signup\n",
    "- avg_rating_by_driver: the rider’s average rating over all of their trips\n",
    "- avg_rating_of_driver: the rider’s average rating of their drivers over all of their trips\n",
    "- surge_pct: the percent of trips taken with surge multiplier > 1\n",
    "- avg_surge: The average surge multiplier over all of this user’s trips\n",
    "- trips_in_first_30_days: the number of trips this user took in the first 30 days after signing up\n",
    "- ultimate_black_user: TRUE if the user took an Ultimate Black in their first 30 days; FALSE otherwise\n",
    "- weekday_pct: the percent of the user’s trips occurring during a weekday\n",
    "\n",
    "_Project submission (Leo Evancie):_\n",
    "\n",
    "### 1. Cleaning, exploratory analysis, visualizations\n",
    "\n",
    "First, I'll import libraries, load the .json file, inspect the top 5 rows and read the DataFrame info:"
   ]
  },
  {
   "cell_type": "code",
   "execution_count": 1,
   "id": "1c9df700",
   "metadata": {},
   "outputs": [
    {
     "data": {
      "text/html": [
       "<div>\n",
       "<style scoped>\n",
       "    .dataframe tbody tr th:only-of-type {\n",
       "        vertical-align: middle;\n",
       "    }\n",
       "\n",
       "    .dataframe tbody tr th {\n",
       "        vertical-align: top;\n",
       "    }\n",
       "\n",
       "    .dataframe thead th {\n",
       "        text-align: right;\n",
       "    }\n",
       "</style>\n",
       "<table border=\"1\" class=\"dataframe\">\n",
       "  <thead>\n",
       "    <tr style=\"text-align: right;\">\n",
       "      <th></th>\n",
       "      <th>city</th>\n",
       "      <th>trips_in_first_30_days</th>\n",
       "      <th>signup_date</th>\n",
       "      <th>avg_rating_of_driver</th>\n",
       "      <th>avg_surge</th>\n",
       "      <th>last_trip_date</th>\n",
       "      <th>phone</th>\n",
       "      <th>surge_pct</th>\n",
       "      <th>ultimate_black_user</th>\n",
       "      <th>weekday_pct</th>\n",
       "      <th>avg_dist</th>\n",
       "      <th>avg_rating_by_driver</th>\n",
       "    </tr>\n",
       "  </thead>\n",
       "  <tbody>\n",
       "    <tr>\n",
       "      <th>0</th>\n",
       "      <td>King's Landing</td>\n",
       "      <td>4</td>\n",
       "      <td>2014-01-25</td>\n",
       "      <td>4.7</td>\n",
       "      <td>1.10</td>\n",
       "      <td>2014-06-17</td>\n",
       "      <td>iPhone</td>\n",
       "      <td>15.4</td>\n",
       "      <td>True</td>\n",
       "      <td>46.2</td>\n",
       "      <td>3.67</td>\n",
       "      <td>5.0</td>\n",
       "    </tr>\n",
       "    <tr>\n",
       "      <th>1</th>\n",
       "      <td>Astapor</td>\n",
       "      <td>0</td>\n",
       "      <td>2014-01-29</td>\n",
       "      <td>5.0</td>\n",
       "      <td>1.00</td>\n",
       "      <td>2014-05-05</td>\n",
       "      <td>Android</td>\n",
       "      <td>0.0</td>\n",
       "      <td>False</td>\n",
       "      <td>50.0</td>\n",
       "      <td>8.26</td>\n",
       "      <td>5.0</td>\n",
       "    </tr>\n",
       "    <tr>\n",
       "      <th>2</th>\n",
       "      <td>Astapor</td>\n",
       "      <td>3</td>\n",
       "      <td>2014-01-06</td>\n",
       "      <td>4.3</td>\n",
       "      <td>1.00</td>\n",
       "      <td>2014-01-07</td>\n",
       "      <td>iPhone</td>\n",
       "      <td>0.0</td>\n",
       "      <td>False</td>\n",
       "      <td>100.0</td>\n",
       "      <td>0.77</td>\n",
       "      <td>5.0</td>\n",
       "    </tr>\n",
       "    <tr>\n",
       "      <th>3</th>\n",
       "      <td>King's Landing</td>\n",
       "      <td>9</td>\n",
       "      <td>2014-01-10</td>\n",
       "      <td>4.6</td>\n",
       "      <td>1.14</td>\n",
       "      <td>2014-06-29</td>\n",
       "      <td>iPhone</td>\n",
       "      <td>20.0</td>\n",
       "      <td>True</td>\n",
       "      <td>80.0</td>\n",
       "      <td>2.36</td>\n",
       "      <td>4.9</td>\n",
       "    </tr>\n",
       "    <tr>\n",
       "      <th>4</th>\n",
       "      <td>Winterfell</td>\n",
       "      <td>14</td>\n",
       "      <td>2014-01-27</td>\n",
       "      <td>4.4</td>\n",
       "      <td>1.19</td>\n",
       "      <td>2014-03-15</td>\n",
       "      <td>Android</td>\n",
       "      <td>11.8</td>\n",
       "      <td>False</td>\n",
       "      <td>82.4</td>\n",
       "      <td>3.13</td>\n",
       "      <td>4.9</td>\n",
       "    </tr>\n",
       "  </tbody>\n",
       "</table>\n",
       "</div>"
      ],
      "text/plain": [
       "             city  trips_in_first_30_days signup_date  avg_rating_of_driver  \\\n",
       "0  King's Landing                       4  2014-01-25                   4.7   \n",
       "1         Astapor                       0  2014-01-29                   5.0   \n",
       "2         Astapor                       3  2014-01-06                   4.3   \n",
       "3  King's Landing                       9  2014-01-10                   4.6   \n",
       "4      Winterfell                      14  2014-01-27                   4.4   \n",
       "\n",
       "   avg_surge last_trip_date    phone  surge_pct  ultimate_black_user  \\\n",
       "0       1.10     2014-06-17   iPhone       15.4                 True   \n",
       "1       1.00     2014-05-05  Android        0.0                False   \n",
       "2       1.00     2014-01-07   iPhone        0.0                False   \n",
       "3       1.14     2014-06-29   iPhone       20.0                 True   \n",
       "4       1.19     2014-03-15  Android       11.8                False   \n",
       "\n",
       "   weekday_pct  avg_dist  avg_rating_by_driver  \n",
       "0         46.2      3.67                   5.0  \n",
       "1         50.0      8.26                   5.0  \n",
       "2        100.0      0.77                   5.0  \n",
       "3         80.0      2.36                   4.9  \n",
       "4         82.4      3.13                   4.9  "
      ]
     },
     "execution_count": 1,
     "metadata": {},
     "output_type": "execute_result"
    }
   ],
   "source": [
    "import pandas as pd\n",
    "import numpy as np\n",
    "import datetime as dt\n",
    "\n",
    "users = pd.read_json('ultimate_data_challenge.json')\n",
    "users['signup_date'] = users['signup_date'].astype('datetime64[ns]')\n",
    "users['last_trip_date'] = users['last_trip_date'].astype('datetime64[ns]')\n",
    "\n",
    "users.head()"
   ]
  },
  {
   "cell_type": "code",
   "execution_count": 2,
   "id": "0e69d8f5",
   "metadata": {},
   "outputs": [
    {
     "name": "stdout",
     "output_type": "stream",
     "text": [
      "<class 'pandas.core.frame.DataFrame'>\n",
      "RangeIndex: 50000 entries, 0 to 49999\n",
      "Data columns (total 12 columns):\n",
      " #   Column                  Non-Null Count  Dtype         \n",
      "---  ------                  --------------  -----         \n",
      " 0   city                    50000 non-null  object        \n",
      " 1   trips_in_first_30_days  50000 non-null  int64         \n",
      " 2   signup_date             50000 non-null  datetime64[ns]\n",
      " 3   avg_rating_of_driver    41878 non-null  float64       \n",
      " 4   avg_surge               50000 non-null  float64       \n",
      " 5   last_trip_date          50000 non-null  datetime64[ns]\n",
      " 6   phone                   49604 non-null  object        \n",
      " 7   surge_pct               50000 non-null  float64       \n",
      " 8   ultimate_black_user     50000 non-null  bool          \n",
      " 9   weekday_pct             50000 non-null  float64       \n",
      " 10  avg_dist                50000 non-null  float64       \n",
      " 11  avg_rating_by_driver    49799 non-null  float64       \n",
      "dtypes: bool(1), datetime64[ns](2), float64(6), int64(1), object(2)\n",
      "memory usage: 4.2+ MB\n"
     ]
    }
   ],
   "source": [
    "users.info()"
   ]
  },
  {
   "cell_type": "code",
   "execution_count": 3,
   "id": "7375ebe4",
   "metadata": {},
   "outputs": [
    {
     "data": {
      "text/html": [
       "<div>\n",
       "<style scoped>\n",
       "    .dataframe tbody tr th:only-of-type {\n",
       "        vertical-align: middle;\n",
       "    }\n",
       "\n",
       "    .dataframe tbody tr th {\n",
       "        vertical-align: top;\n",
       "    }\n",
       "\n",
       "    .dataframe thead th {\n",
       "        text-align: right;\n",
       "    }\n",
       "</style>\n",
       "<table border=\"1\" class=\"dataframe\">\n",
       "  <thead>\n",
       "    <tr style=\"text-align: right;\">\n",
       "      <th></th>\n",
       "      <th>trips_in_first_30_days</th>\n",
       "      <th>avg_rating_of_driver</th>\n",
       "      <th>avg_surge</th>\n",
       "      <th>surge_pct</th>\n",
       "      <th>weekday_pct</th>\n",
       "      <th>avg_dist</th>\n",
       "      <th>avg_rating_by_driver</th>\n",
       "    </tr>\n",
       "  </thead>\n",
       "  <tbody>\n",
       "    <tr>\n",
       "      <th>count</th>\n",
       "      <td>50000.000000</td>\n",
       "      <td>41878.000000</td>\n",
       "      <td>50000.000000</td>\n",
       "      <td>50000.000000</td>\n",
       "      <td>50000.000000</td>\n",
       "      <td>50000.000000</td>\n",
       "      <td>49799.000000</td>\n",
       "    </tr>\n",
       "    <tr>\n",
       "      <th>mean</th>\n",
       "      <td>2.278200</td>\n",
       "      <td>4.601559</td>\n",
       "      <td>1.074764</td>\n",
       "      <td>8.849536</td>\n",
       "      <td>60.926084</td>\n",
       "      <td>5.796827</td>\n",
       "      <td>4.778158</td>\n",
       "    </tr>\n",
       "    <tr>\n",
       "      <th>std</th>\n",
       "      <td>3.792684</td>\n",
       "      <td>0.617338</td>\n",
       "      <td>0.222336</td>\n",
       "      <td>19.958811</td>\n",
       "      <td>37.081503</td>\n",
       "      <td>5.707357</td>\n",
       "      <td>0.446652</td>\n",
       "    </tr>\n",
       "    <tr>\n",
       "      <th>min</th>\n",
       "      <td>0.000000</td>\n",
       "      <td>1.000000</td>\n",
       "      <td>1.000000</td>\n",
       "      <td>0.000000</td>\n",
       "      <td>0.000000</td>\n",
       "      <td>0.000000</td>\n",
       "      <td>1.000000</td>\n",
       "    </tr>\n",
       "    <tr>\n",
       "      <th>25%</th>\n",
       "      <td>0.000000</td>\n",
       "      <td>4.300000</td>\n",
       "      <td>1.000000</td>\n",
       "      <td>0.000000</td>\n",
       "      <td>33.300000</td>\n",
       "      <td>2.420000</td>\n",
       "      <td>4.700000</td>\n",
       "    </tr>\n",
       "    <tr>\n",
       "      <th>50%</th>\n",
       "      <td>1.000000</td>\n",
       "      <td>4.900000</td>\n",
       "      <td>1.000000</td>\n",
       "      <td>0.000000</td>\n",
       "      <td>66.700000</td>\n",
       "      <td>3.880000</td>\n",
       "      <td>5.000000</td>\n",
       "    </tr>\n",
       "    <tr>\n",
       "      <th>75%</th>\n",
       "      <td>3.000000</td>\n",
       "      <td>5.000000</td>\n",
       "      <td>1.050000</td>\n",
       "      <td>8.600000</td>\n",
       "      <td>100.000000</td>\n",
       "      <td>6.940000</td>\n",
       "      <td>5.000000</td>\n",
       "    </tr>\n",
       "    <tr>\n",
       "      <th>max</th>\n",
       "      <td>125.000000</td>\n",
       "      <td>5.000000</td>\n",
       "      <td>8.000000</td>\n",
       "      <td>100.000000</td>\n",
       "      <td>100.000000</td>\n",
       "      <td>160.960000</td>\n",
       "      <td>5.000000</td>\n",
       "    </tr>\n",
       "  </tbody>\n",
       "</table>\n",
       "</div>"
      ],
      "text/plain": [
       "       trips_in_first_30_days  avg_rating_of_driver     avg_surge  \\\n",
       "count            50000.000000          41878.000000  50000.000000   \n",
       "mean                 2.278200              4.601559      1.074764   \n",
       "std                  3.792684              0.617338      0.222336   \n",
       "min                  0.000000              1.000000      1.000000   \n",
       "25%                  0.000000              4.300000      1.000000   \n",
       "50%                  1.000000              4.900000      1.000000   \n",
       "75%                  3.000000              5.000000      1.050000   \n",
       "max                125.000000              5.000000      8.000000   \n",
       "\n",
       "          surge_pct   weekday_pct      avg_dist  avg_rating_by_driver  \n",
       "count  50000.000000  50000.000000  50000.000000          49799.000000  \n",
       "mean       8.849536     60.926084      5.796827              4.778158  \n",
       "std       19.958811     37.081503      5.707357              0.446652  \n",
       "min        0.000000      0.000000      0.000000              1.000000  \n",
       "25%        0.000000     33.300000      2.420000              4.700000  \n",
       "50%        0.000000     66.700000      3.880000              5.000000  \n",
       "75%        8.600000    100.000000      6.940000              5.000000  \n",
       "max      100.000000    100.000000    160.960000              5.000000  "
      ]
     },
     "execution_count": 3,
     "metadata": {},
     "output_type": "execute_result"
    }
   ],
   "source": [
    "users.describe()"
   ]
  },
  {
   "cell_type": "code",
   "execution_count": 4,
   "id": "593d5d11",
   "metadata": {},
   "outputs": [
    {
     "data": {
      "text/plain": [
       "Timestamp('2014-07-01 00:00:00')"
      ]
     },
     "execution_count": 4,
     "metadata": {},
     "output_type": "execute_result"
    }
   ],
   "source": [
    "# Identify current day\n",
    "\n",
    "users.last_trip_date.max()"
   ]
  },
  {
   "cell_type": "code",
   "execution_count": 5,
   "id": "105830f6",
   "metadata": {},
   "outputs": [
    {
     "data": {
      "text/html": [
       "<div>\n",
       "<style scoped>\n",
       "    .dataframe tbody tr th:only-of-type {\n",
       "        vertical-align: middle;\n",
       "    }\n",
       "\n",
       "    .dataframe tbody tr th {\n",
       "        vertical-align: top;\n",
       "    }\n",
       "\n",
       "    .dataframe thead th {\n",
       "        text-align: right;\n",
       "    }\n",
       "</style>\n",
       "<table border=\"1\" class=\"dataframe\">\n",
       "  <thead>\n",
       "    <tr style=\"text-align: right;\">\n",
       "      <th></th>\n",
       "      <th>last_trip_date</th>\n",
       "      <th>active</th>\n",
       "    </tr>\n",
       "  </thead>\n",
       "  <tbody>\n",
       "    <tr>\n",
       "      <th>0</th>\n",
       "      <td>2014-06-17</td>\n",
       "      <td>1</td>\n",
       "    </tr>\n",
       "    <tr>\n",
       "      <th>1</th>\n",
       "      <td>2014-05-05</td>\n",
       "      <td>0</td>\n",
       "    </tr>\n",
       "    <tr>\n",
       "      <th>2</th>\n",
       "      <td>2014-01-07</td>\n",
       "      <td>0</td>\n",
       "    </tr>\n",
       "    <tr>\n",
       "      <th>3</th>\n",
       "      <td>2014-06-29</td>\n",
       "      <td>1</td>\n",
       "    </tr>\n",
       "    <tr>\n",
       "      <th>4</th>\n",
       "      <td>2014-03-15</td>\n",
       "      <td>0</td>\n",
       "    </tr>\n",
       "    <tr>\n",
       "      <th>5</th>\n",
       "      <td>2014-06-06</td>\n",
       "      <td>1</td>\n",
       "    </tr>\n",
       "    <tr>\n",
       "      <th>6</th>\n",
       "      <td>2014-01-25</td>\n",
       "      <td>0</td>\n",
       "    </tr>\n",
       "    <tr>\n",
       "      <th>7</th>\n",
       "      <td>2014-01-29</td>\n",
       "      <td>0</td>\n",
       "    </tr>\n",
       "    <tr>\n",
       "      <th>8</th>\n",
       "      <td>2014-02-01</td>\n",
       "      <td>0</td>\n",
       "    </tr>\n",
       "    <tr>\n",
       "      <th>9</th>\n",
       "      <td>2014-01-05</td>\n",
       "      <td>0</td>\n",
       "    </tr>\n",
       "  </tbody>\n",
       "</table>\n",
       "</div>"
      ],
      "text/plain": [
       "  last_trip_date  active\n",
       "0     2014-06-17       1\n",
       "1     2014-05-05       0\n",
       "2     2014-01-07       0\n",
       "3     2014-06-29       1\n",
       "4     2014-03-15       0\n",
       "5     2014-06-06       1\n",
       "6     2014-01-25       0\n",
       "7     2014-01-29       0\n",
       "8     2014-02-01       0\n",
       "9     2014-01-05       0"
      ]
     },
     "execution_count": 5,
     "metadata": {},
     "output_type": "execute_result"
    }
   ],
   "source": [
    "# Create target feature based on whether last_trip_date is within 30 days of current date\n",
    "users['active'] = np.where(users.last_trip_date.max() - users.last_trip_date <= dt.timedelta(days=30), 1, 0)\n",
    "users[['last_trip_date','active']].head(10)"
   ]
  },
  {
   "cell_type": "code",
   "execution_count": 6,
   "id": "78e55075",
   "metadata": {},
   "outputs": [
    {
     "name": "stdout",
     "output_type": "stream",
     "text": [
      "Fraction of users joining in Jan 2014 who remained active after 6 months: 37.61%\n"
     ]
    }
   ],
   "source": [
    "# Calculate percentage of active users based on target column sum and length\n",
    "print('Fraction of users joining in Jan 2014 who remained active after 6 months: {}%'\n",
    "      .format(round(users.active.sum()/len(users)*100, 2)))"
   ]
  },
  {
   "cell_type": "markdown",
   "id": "d4e7471d",
   "metadata": {},
   "source": [
    "The features which appear to contain null values are: `avg_rating_of_driver`, `phone`, and `avg_rating_by_driver`. I will examine each of them in turn to determine the best way to handle the nulls, starting with the feature containing the highest proportion of nulls:"
   ]
  },
  {
   "cell_type": "code",
   "execution_count": 7,
   "id": "7314c711",
   "metadata": {},
   "outputs": [
    {
     "data": {
      "image/png": "[encoded data removed]",
      "text/plain": [
       "<Figure size 432x288 with 1 Axes>"
      ]
     },
     "metadata": {
      "needs_background": "light"
     },
     "output_type": "display_data"
    }
   ],
   "source": [
    "import matplotlib.pyplot as plt\n",
    "%matplotlib inline\n",
    "\n",
    "users.avg_rating_of_driver.hist(bins=20)\n",
    "plt.title('Distribution of avg_rating_of_driver')\n",
    "plt.axvline(users.avg_rating_of_driver.mean(), c='r')\n",
    "plt.show()"
   ]
  },
  {
   "cell_type": "code",
   "execution_count": 8,
   "id": "d4767a3c",
   "metadata": {},
   "outputs": [
    {
     "name": "stdout",
     "output_type": "stream",
     "text": [
      "Most common rating given to drivers:  5.0\n"
     ]
    }
   ],
   "source": [
    "print('Most common rating given to drivers: ', users.avg_rating_of_driver.mode()[0])"
   ]
  },
  {
   "cell_type": "markdown",
   "id": "86216083",
   "metadata": {},
   "source": [
    "Over 8,000 of the 50,000 values for this feature are null. This is too many to drop entirely, so we need to choose an imputation method. Shown in red above, the mean is perhaps not the best measure of central tendency. The mode, 5.0, would better approximate the bulk of the values here. But perhaps this value correlates with another feature, by which we could create a smarter imputation? I wonder, for example, whether there is a relationship between ratings given to drivers and ratings given to users."
   ]
  },
  {
   "cell_type": "code",
   "execution_count": 9,
   "id": "59547838",
   "metadata": {},
   "outputs": [
    {
     "data": {
      "image/png": "[encoded data removed]",
      "text/plain": [
       "<Figure size 720x504 with 1 Axes>"
      ]
     },
     "metadata": {
      "needs_background": "light"
     },
     "output_type": "display_data"
    }
   ],
   "source": [
    "plt.figure(figsize=(10,7))\n",
    "plt.scatter(users.avg_rating_of_driver, users.avg_rating_by_driver, alpha=0.3)\n",
    "#plt.plot(np.arange(1,6),)\n",
    "plt.xlabel('avg_rating_of_driver')\n",
    "plt.ylabel('avg_rating_by_driver')\n",
    "plt.show()"
   ]
  },
  {
   "cell_type": "code",
   "execution_count": 10,
   "id": "7cf519f8",
   "metadata": {},
   "outputs": [
    {
     "name": "stdout",
     "output_type": "stream",
     "text": [
      "(0.10166026484732596, 5.706529433286202e-115)\n"
     ]
    }
   ],
   "source": [
    "from scipy.stats import pearsonr\n",
    "r = pearsonr(users.avg_rating_of_driver.fillna(users.avg_rating_of_driver.mean()), users.avg_rating_by_driver.fillna(users.avg_rating_by_driver.mean()))\n",
    "print(r)"
   ]
  },
  {
   "cell_type": "markdown",
   "id": "60a10ce0",
   "metadata": {},
   "source": [
    "The correlation is slight, though statistically significant (presumably with the help of the large sample sizes). I would note, though, that by necessity, I filled null values with the mean for the above calculation. There is already some imputation at work with these figures. I don't see a great way to use the value of one to impute the other.\n",
    "\n",
    "Perhaps more frequent users are more likely to rate their drivers? Aside from the date of their last trip, the only proxy we have for user frequency is the `trips_in_first_30_days` column. Let's see if there's anything to be gleaned there."
   ]
  },
  {
   "cell_type": "code",
   "execution_count": 11,
   "id": "f724c390",
   "metadata": {},
   "outputs": [
    {
     "data": {
      "image/png": "[encoded data removed]",
      "text/plain": [
       "<Figure size 432x288 with 1 Axes>"
      ]
     },
     "metadata": {
      "needs_background": "light"
     },
     "output_type": "display_data"
    }
   ],
   "source": [
    "driver_ratings_by_trip_frequency = users.groupby(by='trips_in_first_30_days')['avg_rating_of_driver'].mean()\n",
    "\n",
    "plt.plot(driver_ratings_by_trip_frequency, fillstyle='none', marker='d')\n",
    "plt.axhline(users.avg_rating_of_driver.mean(), color='r')\n",
    "plt.xlabel('trips taken first 30 days')\n",
    "plt.ylabel('avg_rating_of_driver')\n",
    "plt.show()"
   ]
  },
  {
   "cell_type": "markdown",
   "id": "3b4281c4",
   "metadata": {},
   "source": [
    "It would appear that users who took more trips during their first 30 days gave a wider range of average ratings to their drivers than those who took fewer trips during their first 30 days, however the average ratings appear to fluctuate about the mean even as the amplitude of fluctuations increases. Again, we see no compelling reason to impute nulls by anything other than the simple mean or median.\n",
    "\n",
    "Having initially found no more sophisticated method to impute null values for `avg_rating_of_driver`, and stopping short of guessing that value through yet another round of predictive modeling, I will choose the mode as a simple imputation method. In addition to better describing the distribution we first visualized, I believe the mode (5.0) makes more sense from a user experience standpoint. When riders have singularly negative experiences, they tend to leave ratings. When users who _do_ leave ratings have mundane experiences, they tend to rate 5 out of 5. Hence, I would predict that users who choose not to rate their drivers are more likely to have had mundane (or better) experiences than to have had negative experiences, and would thus have likely chosen 5 out of 5 if they'd been forced to choose.\n",
    "\n",
    "I will perform this imputation now, before dropping any rows on the basis of nulls in other columns, for integrity purposes."
   ]
  },
  {
   "cell_type": "code",
   "execution_count": 12,
   "id": "c55c479c",
   "metadata": {},
   "outputs": [
    {
     "name": "stdout",
     "output_type": "stream",
     "text": [
      "<class 'pandas.core.frame.DataFrame'>\n",
      "RangeIndex: 50000 entries, 0 to 49999\n",
      "Data columns (total 13 columns):\n",
      " #   Column                  Non-Null Count  Dtype         \n",
      "---  ------                  --------------  -----         \n",
      " 0   city                    50000 non-null  object        \n",
      " 1   trips_in_first_30_days  50000 non-null  int64         \n",
      " 2   signup_date             50000 non-null  datetime64[ns]\n",
      " 3   avg_rating_of_driver    50000 non-null  float64       \n",
      " 4   avg_surge               50000 non-null  float64       \n",
      " 5   last_trip_date          50000 non-null  datetime64[ns]\n",
      " 6   phone                   49604 non-null  object        \n",
      " 7   surge_pct               50000 non-null  float64       \n",
      " 8   ultimate_black_user     50000 non-null  bool          \n",
      " 9   weekday_pct             50000 non-null  float64       \n",
      " 10  avg_dist                50000 non-null  float64       \n",
      " 11  avg_rating_by_driver    49799 non-null  float64       \n",
      " 12  active                  50000 non-null  int64         \n",
      "dtypes: bool(1), datetime64[ns](2), float64(6), int64(2), object(2)\n",
      "memory usage: 4.6+ MB\n"
     ]
    }
   ],
   "source": [
    "users['avg_rating_of_driver'] = users['avg_rating_of_driver'].fillna(users.avg_rating_of_driver.mode()[0])\n",
    "users.info()"
   ]
  },
  {
   "cell_type": "markdown",
   "id": "2276dda3",
   "metadata": {},
   "source": [
    "With fewer than 400 nulls in the `phone` column, and about 200 nulls in the `avg_rating_by_driver` column, I think it's safe to drop those rows entirely."
   ]
  },
  {
   "cell_type": "code",
   "execution_count": 13,
   "id": "2da66ba5",
   "metadata": {},
   "outputs": [
    {
     "name": "stdout",
     "output_type": "stream",
     "text": [
      "<class 'pandas.core.frame.DataFrame'>\n",
      "Int64Index: 49406 entries, 0 to 49999\n",
      "Data columns (total 13 columns):\n",
      " #   Column                  Non-Null Count  Dtype         \n",
      "---  ------                  --------------  -----         \n",
      " 0   city                    49406 non-null  object        \n",
      " 1   trips_in_first_30_days  49406 non-null  int64         \n",
      " 2   signup_date             49406 non-null  datetime64[ns]\n",
      " 3   avg_rating_of_driver    49406 non-null  float64       \n",
      " 4   avg_surge               49406 non-null  float64       \n",
      " 5   last_trip_date          49406 non-null  datetime64[ns]\n",
      " 6   phone                   49406 non-null  object        \n",
      " 7   surge_pct               49406 non-null  float64       \n",
      " 8   ultimate_black_user     49406 non-null  bool          \n",
      " 9   weekday_pct             49406 non-null  float64       \n",
      " 10  avg_dist                49406 non-null  float64       \n",
      " 11  avg_rating_by_driver    49406 non-null  float64       \n",
      " 12  active                  49406 non-null  int64         \n",
      "dtypes: bool(1), datetime64[ns](2), float64(6), int64(2), object(2)\n",
      "memory usage: 4.9+ MB\n"
     ]
    }
   ],
   "source": [
    "users = users.dropna(subset=['phone','avg_rating_by_driver'])\n",
    "users.info()"
   ]
  },
  {
   "cell_type": "markdown",
   "id": "3899013c",
   "metadata": {},
   "source": [
    "Now, we have 49,406 of our original 50,000 users, roughly 8,000 of which have an imputed `avg_rating_of_driver` score of 5.0.\n",
    "\n",
    "Next, let's get a quick sense of how our various features relate to whether a rider is `active` 6 months after joining."
   ]
  },
  {
   "cell_type": "code",
   "execution_count": 14,
   "id": "c9d24e5c",
   "metadata": {},
   "outputs": [
    {
     "data": {
      "image/png": "[encoded data removed]",
      "text/plain": [
       "<Figure size 432x288 with 2 Axes>"
      ]
     },
     "metadata": {
      "needs_background": "light"
     },
     "output_type": "display_data"
    }
   ],
   "source": [
    "import seaborn as sns\n",
    "\n",
    "sns.heatmap(users.corr())\n",
    "plt.title('Heatmap of correlations among quantitative features')\n",
    "plt.show()"
   ]
  },
  {
   "cell_type": "markdown",
   "id": "5d76d461",
   "metadata": {},
   "source": [
    "There is virtually no correlation between `avg_dist` and `active`, weak correlations with `avg_surge`, `surge_pct`, `weekday_pct`, `avg_rating_of_driver` and `avg_rating_by_driver`, and modest correlations with `trips_in_first_30_days` and `ultimate_black_user`.\n",
    "\n",
    "From this, I would think we can exclude `avg_dist` from our feature set, for lack of predictive value. Also, due to the very strong correlation between `avg_surge` and `surge_pct`, I believe we should only include one, so as to avoid autocorrelation within the feature set. I will keep `surge_pct`."
   ]
  },
  {
   "cell_type": "code",
   "execution_count": null,
   "id": "c798c28c",
   "metadata": {},
   "outputs": [],
   "source": [
    "users = users.drop(columns=['avg_dist','avg_surge'])"
   ]
  },
  {
   "cell_type": "markdown",
   "id": "7ef5d5f2",
   "metadata": {},
   "source": [
    "What about our categorical features? I am planning to use a decision-tree-based model, so we can potentially include those as well, if they look useful."
   ]
  },
  {
   "cell_type": "code",
   "execution_count": 19,
   "id": "37b0879c",
   "metadata": {},
   "outputs": [
    {
     "data": {
      "text/plain": [
       "phone\n",
       "iPhone     0.449864\n",
       "Android    0.209826\n",
       "Name: active, dtype: float64"
      ]
     },
     "execution_count": 19,
     "metadata": {},
     "output_type": "execute_result"
    }
   ],
   "source": [
    "users.groupby(by='phone')['active'].mean().sort_values(ascending=False)"
   ]
  },
  {
   "cell_type": "code",
   "execution_count": 20,
   "id": "354924f8",
   "metadata": {},
   "outputs": [
    {
     "data": {
      "text/plain": [
       "city\n",
       "King's Landing    0.628403\n",
       "Winterfell        0.353501\n",
       "Astapor           0.256496\n",
       "Name: active, dtype: float64"
      ]
     },
     "execution_count": 20,
     "metadata": {},
     "output_type": "execute_result"
    }
   ],
   "source": [
    "users.groupby(by='city')['active'].mean().sort_values(ascending=False)"
   ]
  },
  {
   "cell_type": "markdown",
   "id": "f04bf0ff",
   "metadata": {},
   "source": [
    "The type of `phone` used by the user, as well as their `city`, both have some bearing on whether or not they are active 6 months after joining. iPhone users are more than twice as likely to still be active than Android users. King's Landing-based users are nearly twice as likely to be active than Winterfell residents, and more than twice as likely to be active than Astapor residents. We should certainly include both of these features in our training data. I will create dummies and remove the original columns."
   ]
  },
  {
   "cell_type": "code",
   "execution_count": 21,
   "id": "18c2ad80",
   "metadata": {},
   "outputs": [],
   "source": [
    "phone_dummies = pd.get_dummies(users.phone, prefix='phone')\n",
    "city_dummies = pd.get_dummies(users.city, prefix='city')\n",
    "users = pd.concat([users, phone_dummies, city_dummies], axis=1).drop(columns=['phone','city'])"
   ]
  },
  {
   "cell_type": "markdown",
   "id": "6f768211",
   "metadata": {},
   "source": [
    "And finally, we remove our date columns. For one thing, we know they all joined in January. For another, including `last_trip_date` would make our model impossibly good; the point is to be able to _predict_ activity."
   ]
  },
  {
   "cell_type": "code",
   "execution_count": 25,
   "id": "9be05276",
   "metadata": {},
   "outputs": [],
   "source": [
    "users = users.drop(columns=['signup_date','last_trip_date'])"
   ]
  },
  {
   "cell_type": "markdown",
   "id": "60b2d96d",
   "metadata": {},
   "source": [
    "I'm going to use a Gradient Boosting Classifier algorithm. This is a decision-tree-based model, which is great for handling both quantitative and categorical data, and it's also robust to outliers. Another benefit of the GBC is that it's an ensemble model. The algorithm actually trains a series of decision trees, each one trained on the errors of the last, to produce a much more effective tree than we could've trained in one shot.\n",
    "\n",
    "First, of course, we have to split our data into training and testing chunks. We will not scale or normalize columns because the algorithm we'll use does not require that practice."
   ]
  },
  {
   "cell_type": "code",
   "execution_count": null,
   "id": "95763466",
   "metadata": {},
   "outputs": [],
   "source": [
    "from sklearn.model_selection import train_test_split\n",
    "\n",
    "y = users.active\n",
    "X = users.drop('active', axis=1)\n",
    "\n",
    "X_train, X_test, y_train, y_test = train_test_split(X, y, test_size = 0.3, random_state=42)"
   ]
  },
  {
   "cell_type": "code",
   "execution_count": 47,
   "id": "33162a44",
   "metadata": {},
   "outputs": [
    {
     "name": "stdout",
     "output_type": "stream",
     "text": [
      "              precision    recall  f1-score   support\n",
      "\n",
      "           0       0.81      0.86      0.83     21533\n",
      "           1       0.74      0.66      0.70     13051\n",
      "\n",
      "    accuracy                           0.79     34584\n",
      "   macro avg       0.77      0.76      0.77     34584\n",
      "weighted avg       0.78      0.79      0.78     34584\n",
      "\n"
     ]
    }
   ],
   "source": [
    "from sklearn.ensemble import GradientBoostingClassifier\n",
    "\n",
    "gbc_baseline = GradientBoostingClassifier()\n",
    "gbc_baseline.fit(X_train, y_train)\n",
    "y_train_pred = gbc_baseline.predict(X_train)\n",
    "y_test_pred = gbc_baseline.predict(X_test)\n",
    "\n",
    "from sklearn.metrics import classification_report\n",
    "\n",
    "print(classification_report(y_train, y_train_pred))"
   ]
  },
  {
   "cell_type": "code",
   "execution_count": 40,
   "id": "39a2d047",
   "metadata": {},
   "outputs": [
    {
     "name": "stdout",
     "output_type": "stream",
     "text": [
      "              precision    recall  f1-score   support\n",
      "\n",
      "           0       0.82      0.85      0.83      9238\n",
      "           1       0.74      0.68      0.71      5584\n",
      "\n",
      "    accuracy                           0.79     14822\n",
      "   macro avg       0.78      0.77      0.77     14822\n",
      "weighted avg       0.79      0.79      0.79     14822\n",
      "\n"
     ]
    }
   ],
   "source": [
    "print(classification_report(y_test, y_test_pred))"
   ]
  },
  {
   "cell_type": "markdown",
   "id": "d468f6e6",
   "metadata": {},
   "source": [
    "The label '1' is applied to active users in our training set. So, the worst type of misclassification would be false positives: Truly inactive users marked active. So, we want a low false-positive rate. As such, we should pay close attention to our precision scores.\n",
    "\n",
    "> _Precision = True Positives / (True Positives + __False Positives__)_\n",
    "\n",
    "With FPs in the denominator, precision drops as FPs rise.\n",
    "\n",
    "Now that we've tried out a baseline model, I will tune hyperparamers via randomized grid search. This method tries several combinations of a provided grid of possible values for the key parameters of the GBC algorithm, eventually returning the model which performs best. We'll see if the tuned model yields higher precision scores on the training and testing data."
   ]
  },
  {
   "cell_type": "code",
   "execution_count": null,
   "id": "7b481df4",
   "metadata": {},
   "outputs": [],
   "source": [
    "from sklearn.model_selection import RandomizedSearchCV\n",
    "\n",
    "param_grid = {\n",
    "    'loss': ['deviance','exponential'],\n",
    "    'learning_rate': [0.01,0.1,1],\n",
    "    'n_estimators': [50, 100, 150, 200],\n",
    "    'criterion': ['friedman_mse','mse'],\n",
    "    'min_samples_leaf': [1,2,4],\n",
    "    'min_samples_split': [2,5,10],\n",
    "    'max_depth': [2,3,4,5],\n",
    "    'random_state': [42],\n",
    "    'max_features': ['auto','sqrt','log2']\n",
    "}\n",
    "\n",
    "gbc = GradientBoostingClassifier()\n",
    "gbc_random = RandomizedSearchCV(\n",
    "    estimator=gbc,\n",
    "    param_distributions=param_grid,\n",
    "    n_iter=500,\n",
    "    cv=5,\n",
    "    random_state=42\n",
    ")\n",
    "\n",
    "gbc_random.fit(X_train, y_train)"
   ]
  },
  {
   "cell_type": "code",
   "execution_count": 45,
   "id": "3fd88cac",
   "metadata": {},
   "outputs": [
    {
     "data": {
      "text/plain": [
       "{'random_state': 42,\n",
       " 'n_estimators': 150,\n",
       " 'min_samples_split': 10,\n",
       " 'min_samples_leaf': 2,\n",
       " 'max_features': 'auto',\n",
       " 'max_depth': 5,\n",
       " 'loss': 'deviance',\n",
       " 'learning_rate': 0.1,\n",
       " 'criterion': 'friedman_mse'}"
      ]
     },
     "execution_count": 45,
     "metadata": {},
     "output_type": "execute_result"
    }
   ],
   "source": [
    "gbc_random.best_params_"
   ]
  },
  {
   "cell_type": "code",
   "execution_count": 43,
   "id": "d7c2f7cf",
   "metadata": {},
   "outputs": [
    {
     "name": "stdout",
     "output_type": "stream",
     "text": [
      "              precision    recall  f1-score   support\n",
      "\n",
      "           0       0.82      0.88      0.85     21533\n",
      "           1       0.77      0.69      0.73     13051\n",
      "\n",
      "    accuracy                           0.81     34584\n",
      "   macro avg       0.80      0.78      0.79     34584\n",
      "weighted avg       0.81      0.81      0.80     34584\n",
      "\n"
     ]
    }
   ],
   "source": [
    "y_train_pred = gbc_random.predict(X_train)\n",
    "y_test_pred = gbc_random.predict(X_test)\n",
    "\n",
    "print(classification_report(y_train, y_train_pred))"
   ]
  },
  {
   "cell_type": "code",
   "execution_count": 44,
   "id": "1e5e3a47",
   "metadata": {},
   "outputs": [
    {
     "name": "stdout",
     "output_type": "stream",
     "text": [
      "              precision    recall  f1-score   support\n",
      "\n",
      "           0       0.83      0.84      0.84      9238\n",
      "           1       0.73      0.71      0.72      5584\n",
      "\n",
      "    accuracy                           0.79     14822\n",
      "   macro avg       0.78      0.78      0.78     14822\n",
      "weighted avg       0.79      0.79      0.79     14822\n",
      "\n"
     ]
    }
   ],
   "source": [
    "print(classification_report(y_test, y_test_pred))"
   ]
  },
  {
   "cell_type": "markdown",
   "id": "1254f34b",
   "metadata": {},
   "source": [
    "Interesting... With this set of features, and that parameter grid, and 500 iterations of randomized grid search with cross-validation... We basically did not improve the model at all. A good sign that further feature-engineering is called for."
   ]
  },
  {
   "cell_type": "markdown",
   "id": "fa646d15",
   "metadata": {},
   "source": [
    "### Discussion\n",
    "A first pass of modeling with the Gradient Boosting Classifier produced a model that predicts active users with about 79% accuracy (overall success) and 0.73 precision (a measure that improves as false-positives decrease).\n",
    "\n",
    "We learned that Apple phone users are much more likely to remain active than Android users, and that King's Landing residents are more likely to remain active than residents of other cities. There is also moderate predictive value in whether a user is an Ultimate Black member, as well as how many rides they took in their first month.\n",
    "\n",
    "One way to action these insights is to lean further into these characteristics. For example: Promote the app to Apple users disproportionately more than to Android users; push digital and physical advertisements in King's Landing; offer free trials of Ultimate Black to encourage more sign-ups; introduce an incentive whereby users who complete a certain number of rides in their first month on the app receive a voucher/gift/etc."
   ]
  },
  {
   "cell_type": "code",
   "execution_count": null,
   "id": "016c70d0",
   "metadata": {},
   "outputs": [],
   "source": []
  }
 ],
 "metadata": {
  "kernelspec": {
   "display_name": "Python 3 (ipykernel)",
   "language": "python",
   "name": "python3"
  },
  "language_info": {
   "codemirror_mode": {
    "name": "ipython",
    "version": 3
   },
   "file_extension": ".py",
   "mimetype": "text/x-python",
   "name": "python",
   "nbconvert_exporter": "python",
   "pygments_lexer": "ipython3",
   "version": "3.9.7"
  }
 },
 "nbformat": 4,
 "nbformat_minor": 5
}
