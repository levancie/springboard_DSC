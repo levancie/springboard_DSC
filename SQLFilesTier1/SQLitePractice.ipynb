{
 "cells": [
  {
   "cell_type": "code",
   "execution_count": null,
   "id": "ecbd3126",
   "metadata": {},
   "outputs": [],
   "source": [
    "import sqlite3\n",
    "from sqlite3 import Error\n",
    "\n",
    " \n",
    "def create_connection(db_file):\n",
    "    \"\"\" create a database connection to the SQLite database\n",
    "        specified by the db_file\n",
    "    :param db_file: database file\n",
    "    :return: Connection object or None\n",
    "    \"\"\"\n",
    "    conn = None\n",
    "    try:\n",
    "        conn = sqlite3.connect(db_file)\n",
    "        print(sqlite3.version)\n",
    "    except Error as e:\n",
    "        print(e)\n",
    " \n",
    "    return conn"
   ]
  },
  {
   "cell_type": "code",
   "execution_count": 17,
   "id": "f228d14c",
   "metadata": {},
   "outputs": [
    {
     "name": "stdout",
     "output_type": "stream",
     "text": [
      "2.6.0\n",
      "2. Query all tasks\n",
      "('Pool Table', 270)\n",
      "('Snooker Table', 240)\n",
      "('Table Tennis', 180)\n"
     ]
    }
   ],
   "source": [
    " \n",
    "def select_all_tasks(conn):\n",
    "    \"\"\"\n",
    "    Query all rows in the tasks table\n",
    "    :param conn: the Connection object\n",
    "    :return:\n",
    "    \"\"\"\n",
    "    cur = conn.cursor()\n",
    "    \n",
    "    query1 = \"\"\"\n",
    "        SELECT f.name AS facility, subquery2.total_revenue\n",
    "FROM\n",
    "(SELECT facid, SUM(cost) AS total_revenue\n",
    "FROM\n",
    "(SELECT f.facid,\n",
    "(CASE WHEN b.memid = 0 THEN b.slots * f.guestcost\n",
    "ELSE b.slots * f.membercost END) AS cost\n",
    "FROM BOOKINGS AS b\n",
    "LEFT JOIN FACILITIES AS f\n",
    "ON b.facid = f.facid\n",
    "INNER JOIN MEMBERS AS m\n",
    "ON b.memid = m.memid\n",
    "ORDER BY f.facid) AS subquery1\n",
    "GROUP BY facid) AS subquery2\n",
    "INNER JOIN Facilities as f\n",
    "ON f.facid = subquery2.facid\n",
    "WHERE subquery2.total_revenue < 1000\n",
    "ORDER BY subquery2.total_revenue DESC\n",
    "        \"\"\"\n",
    "    cur.execute(query1)\n",
    " \n",
    "    rows = cur.fetchall()\n",
    " \n",
    "    for row in rows:\n",
    "        print(row)\n",
    "\n",
    "\n",
    "def main():\n",
    "    database = \"sqlite_db_pythonsqlite.db\"\n",
    " \n",
    "    # create a database connection\n",
    "    conn = create_connection(database)\n",
    "    with conn: \n",
    "        print(\"2. Query all tasks\")\n",
    "        select_all_tasks(conn)\n",
    " \n",
    " \n",
    "if __name__ == '__main__':\n",
    "    main()"
   ]
  },
  {
   "cell_type": "code",
   "execution_count": null,
   "id": "13a71e55",
   "metadata": {},
   "outputs": [],
   "source": []
  }
 ],
 "metadata": {
  "kernelspec": {
   "display_name": "Python 3",
   "language": "python",
   "name": "python3"
  },
  "language_info": {
   "codemirror_mode": {
    "name": "ipython",
    "version": 3
   },
   "file_extension": ".py",
   "mimetype": "text/x-python",
   "name": "python",
   "nbconvert_exporter": "python",
   "pygments_lexer": "ipython3",
   "version": "3.9.4"
  }
 },
 "nbformat": 4,
 "nbformat_minor": 5
}
